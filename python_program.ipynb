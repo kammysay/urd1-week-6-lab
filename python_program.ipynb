{
 "cells": [
  {
   "cell_type": "code",
   "execution_count": 4,
   "metadata": {},
   "outputs": [
    {
     "name": "stdin",
     "output_type": "stream",
     "text": [
      "What is your name? urjeet\n",
      "What is your age? 7\n"
     ]
    },
    {
     "name": "stdout",
     "output_type": "stream",
     "text": [
      "Hi urjeet you are too young to register to vote!\n"
     ]
    }
   ],
   "source": [
    "name = input(\"What is your name?\")\n",
    "age = input(\"What is your age?\")\n",
    "age = int(age)\n",
    "toVote = input(\"Are you registered to vote? (1 for Yes, 2 for No)\")\n",
    "toVote = int(toVote)\n",
    "if age > 17:\n",
    "    print(\"Hi\", name, \"you are\", \"eligible to register to vote!\")\n",
    "    if(toVote == 1):\n",
    "        print(\"You can vote now!\")\n",
    "    else:\n",
    "        print(You can vote when you're registered!)\n",
    "else:\n",
    "    print(\"Hi\", name, \"you are too young to register to vote!\")"
   ]
  }
 ],
 "metadata": {
  "kernelspec": {
   "display_name": "Python 3",
   "language": "python",
   "name": "python3"
  },
  "language_info": {
   "codemirror_mode": {
    "name": "ipython",
    "version": 3
   },
   "file_extension": ".py",
   "mimetype": "text/x-python",
   "name": "python",
   "nbconvert_exporter": "python",
   "pygments_lexer": "ipython3",
   "version": "3.6.7"
  }
 },
 "nbformat": 4,
 "nbformat_minor": 4
}
